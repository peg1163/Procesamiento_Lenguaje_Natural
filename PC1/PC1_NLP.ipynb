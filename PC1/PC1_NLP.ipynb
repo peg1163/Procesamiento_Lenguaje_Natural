{
 "cells": [
  {
   "cell_type": "markdown",
   "id": "8b99dfd3",
   "metadata": {},
   "source": [
    "# importaciones "
   ]
  },
  {
   "cell_type": "code",
   "execution_count": 22,
   "id": "a1cfa2cb",
   "metadata": {},
   "outputs": [],
   "source": [
    "\n",
    "import os, json, random, math\n",
    "import numpy as np\n",
    "import pandas as pd\n",
    "import matplotlib.pyplot as plt\n",
    "\n",
    "from sentence_transformers import SentenceTransformer\n",
    "from sklearn.feature_extraction.text import TfidfVectorizer\n",
    "from sklearn.preprocessing import normalize\n",
    "from sklearn.decomposition import PCA"
   ]
  },
  {
   "cell_type": "markdown",
   "id": "143b2bf3",
   "metadata": {},
   "source": [
    "# Funciones a usar"
   ]
  },
  {
   "cell_type": "code",
   "execution_count": null,
   "id": "7afbd2f9",
   "metadata": {},
   "outputs": [],
   "source": [
    "RNG_SEED = 42\n",
    "random.seed(RNG_SEED)\n",
    "np.random.seed(RNG_SEED)\n",
    "os.makedirs(\"out\", exist_ok=True)\n",
    "\n",
    "def l2_normalize(X: np.ndarray) -> np.ndarray:\n",
    "    n = np.linalg.norm(X, axis=1, keepdims=True)\n",
    "    n[n == 0] = 1.0\n",
    "    return X / n\n",
    "\n",
    "def cosine_sim(A: np.ndarray, B: np.ndarray) -> np.ndarray:\n",
    "    A_ = l2_normalize(A)\n",
    "    B_ = l2_normalize(B)\n",
    "    return A_ @ B_.T\n",
    "\n",
    "def recall_at_k(ranked_indices, gt_indices, k=10):\n",
    "    hits = 0\n",
    "    for r, gt in zip(ranked_indices, gt_indices):\n",
    "        hits += int(gt in r[:k])\n",
    "    return hits / len(gt_indices)\n",
    "\n",
    "def show_examples(df: pd.DataFrame, idxs, title=\"Ejemplos\"):\n",
    "    print(f\"\\n--- {title} ---\")\n",
    "    for i in idxs[:5]:\n",
    "        print(f\"[{i}] {df.iloc[i]['Texto']}  ->  {df.iloc[i]['Categoría']}\")\n",
    "        \n"
   ]
  },
  {
   "cell_type": "markdown",
   "id": "a93e1aa0",
   "metadata": {},
   "source": [
    "# Carga de dataset "
   ]
  },
  {
   "cell_type": "code",
   "execution_count": 24,
   "id": "0b108351",
   "metadata": {},
   "outputs": [
    {
     "data": {
      "text/plain": [
       "(10005,\n",
       "                                                Texto Categoría\n",
       " 0       La tokenización es clave para procesar texto  Positivo\n",
       " 1             No entiendo los embeddings vectoriales  Negativo\n",
       " 2         Los LLMs son impresionantes pero complejos   Neutral\n",
       " 3               El curso de NLP es fascinante y útil  Positivo\n",
       " 4  La programación en Python es complicada al pri...  Negativo)"
      ]
     },
     "execution_count": 24,
     "metadata": {},
     "output_type": "execute_result"
    }
   ],
   "source": [
    "\n",
    "df = pd.read_csv(\"data/nlp_prueba_cc0c2_large.csv\")\n",
    "df = df.dropna(subset=[\"Texto\"]).reset_index(drop=True)\n",
    "len(df), df.head()\n"
   ]
  },
  {
   "cell_type": "markdown",
   "id": "b0a9f9c6",
   "metadata": {},
   "source": [
    "# Oraciones y Consultas"
   ]
  },
  {
   "cell_type": "code",
   "execution_count": null,
   "id": "99e8bd47",
   "metadata": {},
   "outputs": [
    {
     "name": "stdout",
     "output_type": "stream",
     "text": [
      "8000 200\n",
      "\n",
      "--- oraciones ---\n",
      "[0] La tokenización es clave para procesar texto  ->  Positivo\n",
      "[100] La perplejidad parece confuso para procesar texto.  ->  Negativo\n",
      "[500] La lematización requiere fascinante para procesar texto.  ->  Positivo\n",
      "[1000] No entiendo cómo funciona la lematización, es innovador.  ->  Positivo\n",
      "[1500] Implementar regularización se usa para lento en proyectos reales.  ->  Negativo\n",
      "\n",
      "--- consultas ---\n",
      "[0] Los modelos de lenguaje son eficiente pero fascinante.  ->  Positivo\n",
      "[10] Entender los transformers parece eficiente en el curso de NLP.  ->  Positivo\n",
      "[20] No entiendo cómo funciona la lematización, es fundamental.  ->  Neutral\n",
      "[30] Entender los lematización se usa para difícil en el curso de NLP.  ->  Negativo\n",
      "[40] Entender los LLMs se usa para esencial en el curso de NLP.  ->  Positivo\n",
      "Consultas con ground-truth en oraciones: 149 / 200\n"
     ]
    }
   ],
   "source": [
    "\n",
    "n_oraciones = min(8000, len(df) - 200)  \n",
    "n_consultas = 200\n",
    "\n",
    "oraciones  = df.iloc[:n_oraciones].reset_index(drop=True).copy()\n",
    "consultas = df.iloc[n_oraciones:n_oraciones+n_consultas].reset_index(drop=True).copy()\n",
    "\n",
    "print(len(oraciones), len(consultas))\n",
    "show_examples(oraciones, [0, 100, 500, 1000, 1500], \"oraciones\")\n",
    "show_examples(consultas, [0, 10, 20, 30, 40], \"consultas\")\n",
    "\n",
    "\n",
    "texto2idx = {t: i for i, t in enumerate(oraciones[\"Texto\"].tolist())}\n",
    "gt = []\n",
    "mask_has_gt = []\n",
    "for q in consultas[\"Texto\"].tolist():\n",
    "    if q in texto2idx:\n",
    "        gt.append(texto2idx[q])\n",
    "        mask_has_gt.append(True)\n",
    "    else:\n",
    "        gt.append(-1)\n",
    "        mask_has_gt.append(False)\n",
    "\n",
    "valid_mask = np.array(mask_has_gt)\n",
    "print(f\"Consultas con ground-truth en oraciones: {valid_mask.sum()} / {len(consultas)}\")\n",
    "\n",
    "\n"
   ]
  },
  {
   "cell_type": "markdown",
   "id": "79cd7a87",
   "metadata": {},
   "source": [
    "# TF-IDF RECUPERACION COSENO"
   ]
  },
  {
   "cell_type": "code",
   "execution_count": null,
   "id": "0f4a1383",
   "metadata": {},
   "outputs": [
    {
     "name": "stdout",
     "output_type": "stream",
     "text": [
      "TF-IDF Recall@10: 0.993\n"
     ]
    }
   ],
   "source": [
    "top_k=10\n",
    "tfidf = TfidfVectorizer(\n",
    "    lowercase=True,\n",
    "    strip_accents=\"unicode\",\n",
    "    ngram_range=(1, 2),\n",
    "    min_df=2\n",
    ")\n",
    "Xc = tfidf.fit_transform(oraciones[\"Texto\"].tolist())\n",
    "Xq = tfidf.transform(consultas[\"Texto\"].tolist())\n",
    "\n",
    "\n",
    "Xc_n = normalize(Xc, norm=\"l2\", copy=True)\n",
    "Xq_n = normalize(Xq, norm=\"l2\", copy=True)\n",
    "\n",
    "scores_tfidf = Xq_n @ Xc_n.T       \n",
    "rank_tfidf = np.argsort(-scores_tfidf.toarray(), axis=1)[:, :top_k]\n",
    "\n",
    "recall10_tfidf = recall_at_k(rank_tfidf[valid_mask], np.array(gt)[valid_mask], k=10)\n",
    "print(f\"TF-IDF Recall@10: {recall10_tfidf:.3f}\")\n"
   ]
  },
  {
   "cell_type": "code",
   "execution_count": null,
   "id": "0eb540d7",
   "metadata": {},
   "outputs": [
    {
     "name": "stdout",
     "output_type": "stream",
     "text": [
      "<Compressed Sparse Row sparse matrix of dtype 'float64'\n",
      "\twith 118908 stored elements and shape (8000, 400)>\n",
      "  Coords\tValues\n",
      "  (0, 146)\t0.20137953223930452\n",
      "  (0, 376)\t0.34672785524347044\n",
      "  (0, 86)\t0.2341977951597371\n",
      "  (0, 231)\t0.2489834714320029\n",
      "  (0, 298)\t0.27585624390518515\n",
      "  (0, 375)\t0.27585624390518515\n",
      "  (0, 155)\t0.4417203018596267\n",
      "  (0, 378)\t0.4721029631430636\n",
      "  (0, 248)\t0.27585624390518515\n",
      "  (0, 299)\t0.27585624390518515\n",
      "  (1, 229)\t0.3599720493243481\n",
      "  (1, 84)\t0.3599720493243481\n",
      "  (1, 192)\t0.2658927563591309\n",
      "  (1, 70)\t0.4495389776543636\n",
      "  (1, 230)\t0.3599720493243481\n",
      "  (1, 195)\t0.5817870063871319\n",
      "  (2, 192)\t0.23131056236657715\n",
      "  (2, 183)\t0.39706022593545015\n",
      "  (2, 352)\t0.31360227200665636\n",
      "  (2, 270)\t0.31360227200665636\n",
      "  (2, 197)\t0.5057494836824277\n",
      "  (2, 191)\t0.5799683529790494\n",
      "  (3, 86)\t0.21955494809318374\n",
      "  (3, 68)\t0.256918604960691\n",
      "  (3, 55)\t0.256918604960691\n",
      "  :\t:\n",
      "  (7998, 74)\t0.4179194241053338\n",
      "  (7998, 123)\t0.1867202667655453\n",
      "  (7998, 300)\t0.1867202667655453\n",
      "  (7998, 302)\t0.1867202667655453\n",
      "  (7998, 81)\t0.1867202667655453\n",
      "  (7998, 301)\t0.1867202667655453\n",
      "  (7998, 64)\t0.26913811807080035\n",
      "  (7998, 65)\t0.3461883982779731\n",
      "  (7998, 126)\t0.34121577167595063\n",
      "  (7998, 257)\t0.4528320429982189\n",
      "  (7999, 146)\t0.15621593532648506\n",
      "  (7999, 86)\t0.18167401232615576\n",
      "  (7999, 229)\t0.21076316431807893\n",
      "  (7999, 84)\t0.21076316431807893\n",
      "  (7999, 230)\t0.21076316431807893\n",
      "  (7999, 396)\t0.29683271045682735\n",
      "  (7999, 41)\t0.21081338820121492\n",
      "  (7999, 117)\t0.21081338820121492\n",
      "  (7999, 85)\t0.21081338820121492\n",
      "  (7999, 42)\t0.21081338820121492\n",
      "  (7999, 118)\t0.21081338820121492\n",
      "  (7999, 104)\t0.4142673104809173\n",
      "  (7999, 157)\t0.26937976329794083\n",
      "  (7999, 159)\t0.3741186621551077\n",
      "  (7999, 150)\t0.3389086668904711\n"
     ]
    }
   ],
   "source": [
    "print(Xc)\n"
   ]
  },
  {
   "cell_type": "code",
   "execution_count": 31,
   "id": "f047d8ca",
   "metadata": {},
   "outputs": [
    {
     "name": "stdout",
     "output_type": "stream",
     "text": [
      "<Compressed Sparse Row sparse matrix of dtype 'float64'\n",
      "\twith 118908 stored elements and shape (8000, 400)>\n",
      "  Coords\tValues\n",
      "  (0, 146)\t0.20137953223930455\n",
      "  (0, 376)\t0.3467278552434705\n",
      "  (0, 86)\t0.23419779515973713\n",
      "  (0, 231)\t0.24898347143200292\n",
      "  (0, 298)\t0.2758562439051852\n",
      "  (0, 375)\t0.2758562439051852\n",
      "  (0, 155)\t0.44172030185962674\n",
      "  (0, 378)\t0.47210296314306366\n",
      "  (0, 248)\t0.2758562439051852\n",
      "  (0, 299)\t0.2758562439051852\n",
      "  (1, 229)\t0.3599720493243481\n",
      "  (1, 84)\t0.3599720493243481\n",
      "  (1, 192)\t0.2658927563591309\n",
      "  (1, 70)\t0.4495389776543636\n",
      "  (1, 230)\t0.3599720493243481\n",
      "  (1, 195)\t0.5817870063871319\n",
      "  (2, 192)\t0.23131056236657715\n",
      "  (2, 183)\t0.39706022593545015\n",
      "  (2, 352)\t0.31360227200665636\n",
      "  (2, 270)\t0.31360227200665636\n",
      "  (2, 197)\t0.5057494836824277\n",
      "  (2, 191)\t0.5799683529790494\n",
      "  (3, 86)\t0.21955494809318377\n",
      "  (3, 68)\t0.2569186049606911\n",
      "  (3, 55)\t0.2569186049606911\n",
      "  :\t:\n",
      "  (7998, 74)\t0.4179194241053338\n",
      "  (7998, 123)\t0.1867202667655453\n",
      "  (7998, 300)\t0.1867202667655453\n",
      "  (7998, 302)\t0.1867202667655453\n",
      "  (7998, 81)\t0.1867202667655453\n",
      "  (7998, 301)\t0.1867202667655453\n",
      "  (7998, 64)\t0.26913811807080035\n",
      "  (7998, 65)\t0.3461883982779731\n",
      "  (7998, 126)\t0.34121577167595063\n",
      "  (7998, 257)\t0.4528320429982189\n",
      "  (7999, 146)\t0.15621593532648506\n",
      "  (7999, 86)\t0.18167401232615576\n",
      "  (7999, 229)\t0.21076316431807893\n",
      "  (7999, 84)\t0.21076316431807893\n",
      "  (7999, 230)\t0.21076316431807893\n",
      "  (7999, 396)\t0.29683271045682735\n",
      "  (7999, 41)\t0.21081338820121492\n",
      "  (7999, 117)\t0.21081338820121492\n",
      "  (7999, 85)\t0.21081338820121492\n",
      "  (7999, 42)\t0.21081338820121492\n",
      "  (7999, 118)\t0.21081338820121492\n",
      "  (7999, 104)\t0.4142673104809173\n",
      "  (7999, 157)\t0.26937976329794083\n",
      "  (7999, 159)\t0.3741186621551077\n",
      "  (7999, 150)\t0.3389086668904711\n"
     ]
    }
   ],
   "source": [
    "print(Xc_n )"
   ]
  },
  {
   "cell_type": "code",
   "execution_count": 34,
   "id": "3bce7ee5",
   "metadata": {},
   "outputs": [
    {
     "name": "stdout",
     "output_type": "stream",
     "text": [
      "Término en la columna 378 → tokenizacion es\n"
     ]
    }
   ],
   "source": [
    "feature_names = tfidf.get_feature_names_out()\n",
    "\n",
    "col = 378 \n",
    "print(\"Término en la columna\", col, \"→\", feature_names[col])\n"
   ]
  },
  {
   "cell_type": "code",
   "execution_count": null,
   "id": "a82d531d",
   "metadata": {},
   "outputs": [
    {
     "name": "stdout",
     "output_type": "stream",
     "text": [
      "la 0.20137953223930452\n",
      "tokenizacion 0.34672785524347044\n",
      "es 0.2341977951597371\n",
      "para 0.2489834714320029\n",
      "procesar 0.27585624390518515\n",
      "texto 0.27585624390518515\n",
      "la tokenizacion 0.4417203018596267\n",
      "tokenizacion es 0.4721029631430636\n",
      "para procesar 0.27585624390518515\n",
      "procesar texto 0.27585624390518515\n"
     ]
    }
   ],
   "source": [
    "fila = 0  \n",
    "row = Xc.getrow(fila)             \n",
    "cols = row.nonzero()[1]            \n",
    "\n",
    "for c in cols:\n",
    "    print(feature_names[c], float(row[0, c]))\n"
   ]
  },
  {
   "cell_type": "code",
   "execution_count": 32,
   "id": "076ef18f",
   "metadata": {},
   "outputs": [
    {
     "name": "stdout",
     "output_type": "stream",
     "text": [
      "<Compressed Sparse Row sparse matrix of dtype 'float64'\n",
      "\twith 3017 stored elements and shape (200, 400)>\n",
      "  Coords\tValues\n",
      "  (0, 57)\t0.15151825608282268\n",
      "  (0, 58)\t0.21938206352999443\n",
      "  (0, 64)\t0.24701142571143386\n",
      "  (0, 67)\t0.3687218549868445\n",
      "  (0, 109)\t0.24442737298688771\n",
      "  (0, 166)\t0.21938206352999443\n",
      "  (0, 174)\t0.32624462777405233\n",
      "  (0, 192)\t0.1277545348817857\n",
      "  (0, 198)\t0.28203535444386185\n",
      "  (0, 222)\t0.21938206352999443\n",
      "  (0, 223)\t0.21938206352999443\n",
      "  (0, 270)\t0.173204854928279\n",
      "  (0, 278)\t0.3599398533918439\n",
      "  (0, 352)\t0.173204854928279\n",
      "  (0, 358)\t0.3687218549868445\n",
      "  (1, 41)\t0.18903107310844738\n",
      "  (1, 42)\t0.18903107310844738\n",
      "  (1, 57)\t0.16556025450722636\n",
      "  (1, 58)\t0.23971336003558985\n",
      "  (1, 84)\t0.18898603861321975\n",
      "  (1, 85)\t0.18903107310844738\n",
      "  (1, 86)\t0.16290252625299162\n",
      "  (1, 93)\t0.36981782405720987\n",
      "  (1, 105)\t0.26223374509570313\n",
      "  (1, 117)\t0.18903107310844738\n",
      "  :\t:\n",
      "  (198, 81)\t0.1875982562767455\n",
      "  (198, 105)\t0.2627198952220875\n",
      "  (198, 106)\t0.34208115358684693\n",
      "  (198, 123)\t0.1875982562767455\n",
      "  (198, 128)\t0.3589718033244229\n",
      "  (198, 183)\t0.2400671590874484\n",
      "  (198, 189)\t0.41572353974301296\n",
      "  (198, 300)\t0.1875982562767455\n",
      "  (198, 301)\t0.1875982562767455\n",
      "  (198, 302)\t0.1875982562767455\n",
      "  (198, 331)\t0.25258315007357723\n",
      "  (198, 338)\t0.4422687797383703\n",
      "  (199, 70)\t0.2347129892672144\n",
      "  (199, 74)\t0.41680636254020187\n",
      "  (199, 109)\t0.2656132844456191\n",
      "  (199, 111)\t0.3896630585183593\n",
      "  (199, 146)\t0.13930579231097412\n",
      "  (199, 149)\t0.30354023131262586\n",
      "  (199, 231)\t0.17223617204033953\n",
      "  (199, 248)\t0.19082561268180775\n",
      "  (199, 251)\t0.24988252636944788\n",
      "  (199, 259)\t0.4466402839033169\n",
      "  (199, 298)\t0.19082561268180775\n",
      "  (199, 299)\t0.19082561268180775\n",
      "  (199, 375)\t0.19082561268180775\n"
     ]
    }
   ],
   "source": [
    "print(Xq_n )"
   ]
  },
  {
   "cell_type": "markdown",
   "id": "b2eafbea",
   "metadata": {},
   "source": [
    "# EMBEDING DE OREACIONES Y RECUPERACION "
   ]
  },
  {
   "cell_type": "code",
   "execution_count": null,
   "id": "59935cdb",
   "metadata": {},
   "outputs": [
    {
     "name": "stderr",
     "output_type": "stream",
     "text": [
      "c:\\Users\\USER\\anaconda3\\envs\\nlp\\Lib\\site-packages\\transformers\\tokenization_utils_base.py:1601: FutureWarning: `clean_up_tokenization_spaces` was not set. It will be set to `True` by default. This behavior will be depracted in transformers v4.45, and will be then set to `False` by default. For more details check this issue: https://github.com/huggingface/transformers/issues/31884\n",
      "  warnings.warn(\n"
     ]
    },
    {
     "name": "stdout",
     "output_type": "stream",
     "text": [
      "Modelo SBERT cargado: paraphrase-multilingual-MiniLM-L12-v2\n",
      "Emb shapes: (8000, 384) (200, 384)\n",
      "Embeddings (paraphrase-multilingual-MiniLM-L12-v2) Recall@10: 0.987\n"
     ]
    }
   ],
   "source": [
    "\n",
    "modelo = \"paraphrase-multilingual-MiniLM-L12-v2\"  \n",
    "st_model = SentenceTransformer(modelo)\n",
    "print(\"Modelo SBERT cargado:\", modelo)\n",
    "\n",
    "emb_corpus = st_model.encode(\n",
    "    oraciones[\"Texto\"].tolist(),\n",
    "    batch_size=64, show_progress_bar=False, normalize_embeddings=True\n",
    ")\n",
    "emb_queries = st_model.encode(\n",
    "    consultas[\"Texto\"].tolist(),\n",
    "    batch_size=64, show_progress_bar=False, normalize_embeddings=True\n",
    ")\n",
    "emb_corpus = np.asarray(emb_corpus)\n",
    "emb_queries = np.asarray(emb_queries)\n",
    "print(\"Emb shapes:\", emb_corpus.shape, emb_queries.shape)\n",
    "\n",
    "S = cosine_sim(emb_queries, emb_corpus)\n",
    "rank_emb = np.argsort(-S, axis=1)[:, :top_k]\n",
    "\n",
    "recall10_emb = recall_at_k(rank_emb[valid_mask], np.array(gt)[valid_mask], k=10)\n",
    "print(f\"Embeddings ({modelo}) Recall@10: {recall10_emb:.3f}\")\n"
   ]
  },
  {
   "cell_type": "markdown",
   "id": "0c92182b",
   "metadata": {},
   "source": [
    "# COMPARACION RAPIDA Y EJEMPLOS DE VECINOS "
   ]
  },
  {
   "cell_type": "code",
   "execution_count": null,
   "id": "95d1812c",
   "metadata": {},
   "outputs": [
    {
     "name": "stdout",
     "output_type": "stream",
     "text": [
      "\n",
      "Resumen Recall@10 (exact-match, 149 consultas válidas):\n",
      "  TF-IDF   : 0.993\n",
      " Embeddings (paraphrase-multilingual-MiniLM-L12-v2) : 0.987\n",
      "\n",
      "Q: Los modelos de lenguaje son eficiente pero fascinante.\n",
      "   1) [4801] Los modelos de lenguaje son eficiente pero fascinante.\n",
      "   2) [3039] Los modelos de lenguaje son eficiente pero necesario.\n",
      "   3) [968] Los modelos de lenguaje son eficiente pero interesante.\n",
      "   4) [4967] Los modelos de lenguaje son eficiente pero interesante.\n",
      "   5) [1763] Los modelos de lenguaje son eficiente pero complejo.\n",
      "\n",
      "Q: No entiendo cómo funciona la modelos de lenguaje, es esencial.\n",
      "   1) [1341] No entiendo cómo funciona la modelos de lenguaje, es esencial.\n",
      "   2) [1267] No entiendo cómo funciona la modelos de lenguaje, es esencial.\n",
      "   3) [1611] No entiendo cómo funciona la modelos de lenguaje, es esencial.\n",
      "   4) [5008] No entiendo cómo funciona la modelos de lenguaje, es esencial.\n",
      "   5) [880] No entiendo cómo funciona la modelos de lenguaje, es esencial.\n",
      "\n",
      "Q: Implementar embeddings requiere frustrante en proyectos reales.\n",
      "   1) [2435] Implementar embeddings requiere frustrante en proyectos reales.\n",
      "   2) [1788] Implementar embeddings requiere frustrante en proyectos reales.\n",
      "   3) [7607] Entender los embeddings requiere frustrante en el curso de NLP.\n",
      "   4) [6394] Implementar LLMs requiere frustrante en proyectos reales.\n",
      "   5) [3034] Implementar transformers requiere frustrante en proyectos reales.\n",
      "\n",
      "Q: Los modelos de lenguaje son eficiente pero fascinante.\n",
      "   1) [4801] Los modelos de lenguaje son eficiente pero fascinante.\n",
      "   2) [397] Los modelos de lenguaje son fascinante pero eficiente.\n",
      "   3) [968] Los modelos de lenguaje son eficiente pero interesante.\n",
      "   4) [4967] Los modelos de lenguaje son eficiente pero interesante.\n",
      "   5) [1870] Los modelos de lenguaje son interesante pero eficiente.\n",
      "\n",
      "Q: No entiendo cómo funciona la modelos de lenguaje, es esencial.\n",
      "   1) [880] No entiendo cómo funciona la modelos de lenguaje, es esencial.\n",
      "   2) [5008] No entiendo cómo funciona la modelos de lenguaje, es esencial.\n",
      "   3) [1611] No entiendo cómo funciona la modelos de lenguaje, es esencial.\n",
      "   4) [1341] No entiendo cómo funciona la modelos de lenguaje, es esencial.\n",
      "   5) [1267] No entiendo cómo funciona la modelos de lenguaje, es esencial.\n",
      "\n",
      "Q: Implementar embeddings requiere frustrante en proyectos reales.\n",
      "   1) [1788] Implementar embeddings requiere frustrante en proyectos reales.\n",
      "   2) [2435] Implementar embeddings requiere frustrante en proyectos reales.\n",
      "   3) [2372] Implementar embeddings resulta frustrante en proyectos reales.\n",
      "   4) [3753] Implementar embeddings resulta frustrante en proyectos reales.\n",
      "   5) [7899] Implementar embeddings parece frustrante en proyectos reales.\n"
     ]
    }
   ],
   "source": [
    "print(f\"\\nResumen Recall@10 (exact-match, {valid_mask.sum()} consultas válidas):\")\n",
    "print(f\"  TF-IDF   : {recall10_tfidf:.3f}\")\n",
    "print(f\" Embeddings ({modelo}) : {recall10_emb:.3f}\")\n",
    "\n",
    "\n",
    "def topn_text(rank, n=3, k=5):\n",
    "    for qi in n:\n",
    "        q_text = consultas.iloc[qi][\"Texto\"]\n",
    "        idxs = rank[qi][:k]\n",
    "        print(\"\\nQ:\", q_text)\n",
    "        for j, di in enumerate(idxs, 1):\n",
    "            print(f\"  {j:2d}) [{di}] {oraciones.iloc[di]['Texto']}\")\n",
    "\n",
    "topn_text(rank_tfidf, n=[0,1,2], k=5)\n",
    "topn_text(rank_emb,   n=[0,1,2], k=5)\n"
   ]
  },
  {
   "cell_type": "markdown",
   "id": "42a58d70",
   "metadata": {},
   "source": [
    "# PCA 2D EJEMPLOS VECINOS "
   ]
  },
  {
   "cell_type": "code",
   "execution_count": 29,
   "id": "6367bdc1",
   "metadata": {},
   "outputs": [
    {
     "data": {
      "image/png": "[encoded data removed]",
      "text/plain": [
       "<Figure size 600x600 with 1 Axes>"
      ]
     },
     "metadata": {},
     "output_type": "display_data"
    }
   ],
   "source": [
    "\n",
    "sample_n = min(1500, emb_corpus.shape[0])\n",
    "idx_s = np.random.choice(emb_corpus.shape[0], size=sample_n, replace=False)\n",
    "Z = emb_corpus[idx_s]\n",
    "\n",
    "pca = PCA(n_components=2, random_state=RNG_SEED)\n",
    "Z2 = pca.fit_transform(Z)\n",
    "\n",
    "plt.figure(figsize=(6,6))\n",
    "plt.scatter(Z2[:,0], Z2[:,1], s=6, alpha=0.6)\n",
    "plt.title(f\"PCA 2D de embeddings SBERT ({modelo})\")\n",
    "plt.xlabel(\"PC1\"); plt.ylabel(\"PC2\")\n",
    "plt.tight_layout()\n",
    "plt.savefig(\"out/pca_embeddings_2d.png\", dpi=160)\n",
    "plt.show()\n",
    "\n"
   ]
  },
  {
   "cell_type": "markdown",
   "id": "632837c2",
   "metadata": {},
   "source": [
    "# Guardar métricas y reproducibilidad"
   ]
  },
  {
   "cell_type": "code",
   "execution_count": 30,
   "id": "e9df895e",
   "metadata": {},
   "outputs": [
    {
     "name": "stdout",
     "output_type": "stream",
     "text": [
      "Métricas guardadas en out/metrics.json\n"
     ]
    }
   ],
   "source": [
    "results = {\n",
    "    \"seed\": RNG_SEED,\n",
    "    \"n_corpus\": int(len(oraciones)),\n",
    "    \"n_queries\": int(len(consultas)),\n",
    "    \"valid_queries_exact_match\": int(valid_mask.sum()),\n",
    "    \"recall10_tfidf_exact\": float(recall10_tfidf),\n",
    "    \"recall10_emb_exact\": float(recall10_emb),\n",
    "    \"model_name\": modelo,\n",
    "}\n",
    "with open(\"out/metrics.json\", \"w\", encoding=\"utf-8\") as f:\n",
    "    json.dump(results, f, ensure_ascii=False, indent=2)\n",
    "\n",
    "print(\"Métricas guardadas en out/metrics.json\")\n"
   ]
  }
 ],
 "metadata": {
  "kernelspec": {
   "display_name": "nlp",
   "language": "python",
   "name": "python3"
  },
  "language_info": {
   "codemirror_mode": {
    "name": "ipython",
    "version": 3
   },
   "file_extension": ".py",
   "mimetype": "text/x-python",
   "name": "python",
   "nbconvert_exporter": "python",
   "pygments_lexer": "ipython3",
   "version": "3.11.13"
  }
 },
 "nbformat": 4,
 "nbformat_minor": 5
}
